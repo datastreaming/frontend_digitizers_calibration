{
 "cells": [
  {
   "cell_type": "code",
   "execution_count": 47,
   "metadata": {
    "collapsed": false
   },
   "outputs": [],
   "source": [
    "from drs_vcal_tcal import tcal_class, vcal_class\n",
    "import numpy"
   ]
  },
  {
   "cell_type": "code",
   "execution_count": 51,
   "metadata": {
    "collapsed": false
   },
   "outputs": [],
   "source": [
    "calibration_data = vcal_class('comb007-5120.vcal')"
   ]
  },
  {
   "cell_type": "code",
   "execution_count": 52,
   "metadata": {
    "collapsed": false
   },
   "outputs": [
    {
     "data": {
      "text/plain": [
       "1024"
      ]
     },
     "execution_count": 52,
     "metadata": {},
     "output_type": "execute_result"
    }
   ],
   "source": [
    "len(calibration_data.wf_offset1[0])"
   ]
  },
  {
   "cell_type": "code",
   "execution_count": 53,
   "metadata": {
    "collapsed": false
   },
   "outputs": [
    {
     "data": {
      "text/plain": [
       "array([  8.49590916e-03,   1.16824305e+00,   2.33318830e+00, ...,\n",
       "         1.16423230e+03,   1.16973706e+03,   1.17669836e+03], dtype=float32)"
      ]
     },
     "execution_count": 53,
     "metadata": {},
     "output_type": "execute_result"
    }
   ],
   "source": [
    "# background = SARFE10-PBPG050:HAMP-014-x-h1-BG-DATA\n",
    "\n",
    "# data = SARFE10-PBPG050:HAMP-014-x-h1-DATA\n",
    "# trigger_cell between 0 and 1023\n",
    "trigger_cell = 0\n",
    "# channel = 15\n",
    "channel = 15\n",
    "# incoming_data = 'SARFE10-PBPG050:HAMP-014-x-h1-DATA'\n",
    "\n",
    "# # background subtraction\n",
    "# incoming_data -= 'SARFE10-PBPG050:HAMP-014-x-h1-BG-DATA' # background\n",
    "\n",
    "incoming_data = numpy.linspace(0, 1024, num=1024).astype(numpy.float32)\n",
    "\n",
    "calibration_data.calibrate(incoming_data, trigger_cell, channel)"
   ]
  },
  {
   "cell_type": "code",
   "execution_count": 45,
   "metadata": {
    "collapsed": false
   },
   "outputs": [
    {
     "data": {
      "text/plain": [
       "dtype('float32')"
      ]
     },
     "execution_count": 45,
     "metadata": {},
     "output_type": "execute_result"
    }
   ],
   "source": [
    "incoming_data.dtype"
   ]
  },
  {
   "cell_type": "code",
   "execution_count": null,
   "metadata": {
    "collapsed": true
   },
   "outputs": [],
   "source": []
  }
 ],
 "metadata": {
  "kernelspec": {
   "display_name": "Python [Root]",
   "language": "python",
   "name": "Python [Root]"
  },
  "language_info": {
   "codemirror_mode": {
    "name": "ipython",
    "version": 3
   },
   "file_extension": ".py",
   "mimetype": "text/x-python",
   "name": "python",
   "nbconvert_exporter": "python",
   "pygments_lexer": "ipython3",
   "version": "3.5.2"
  }
 },
 "nbformat": 4,
 "nbformat_minor": 2
}
